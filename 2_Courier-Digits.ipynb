{
 "cells": [
  {
   "cell_type": "code",
   "execution_count": null,
   "metadata": {},
   "outputs": [],
   "source": [
    "import sys\n",
    "import cv2\n",
    "import numpy as np\n",
    "%matplotlib inline\n",
    "from matplotlib import pyplot as plt"
   ]
  },
  {
   "cell_type": "code",
   "execution_count": null,
   "metadata": {},
   "outputs": [],
   "source": [
    "def plot_img(name, img):\n",
    "    plt.imshow(img)\n",
    "    plt.title(name)\n",
    "    plt.show()"
   ]
  },
  {
   "cell_type": "code",
   "execution_count": null,
   "metadata": {},
   "outputs": [],
   "source": [
    "def in_bounds(s, target):\n",
    "    return (s/target >= 0.7 and s/target <= 1.3)\n",
    "\n",
    "def digitGenerator(thresh, height_of_digit, width_of_digit):\n",
    "    contours, hierarchy = cv2.findContours(thresh, cv2.RETR_LIST, cv2.CHAIN_APPROX_SIMPLE)\n",
    "    for cnt in contours:\n",
    "        [x, y, w, h] = cv2.boundingRect(cnt)\n",
    "        if (in_bounds(w, width_of_digit) and in_bounds(h, height_of_digit)):\n",
    "            cv2.rectangle(thresh, (x - 1, y - 1), (x + 1 + w, y + 1 + h), (0, 0, 255), 1)\n",
    "            roi = thresh[y:y + h, x:x + w]\n",
    "            roi = cv2.adaptiveThreshold(roi,255,cv2.ADAPTIVE_THRESH_GAUSSIAN_C, cv2.THRESH_BINARY_INV,21,11)\n",
    "            yield roi\n",
    "        else:\n",
    "            print(w,h)"
   ]
  },
  {
   "cell_type": "code",
   "execution_count": null,
   "metadata": {},
   "outputs": [],
   "source": [
    "im = cv2.imread(\"./courrier-font.png\")\n",
    "imgray = cv2.cvtColor(im, cv2.COLOR_BGR2GRAY)\n",
    "ret, thresh = cv2.threshold(imgray, 150, 255, 0)\n",
    "plot_img('thresh', thresh)\n",
    "width_of_digit = 58\n",
    "height_of_digit = 84\n",
    "            \n",
    "digitsModels = [[None]] * 11\n",
    "for roi in digitGenerator(thresh, height_of_digit, width_of_digit):\n",
    "    cv2.imshow('Training: Enter digits displayed in the red rectangle!', roi)\n",
    "    key = cv2.waitKey(0)\n",
    "    keys = [i for i in range(48, 58)]\n",
    "    keys.append(121)\n",
    "    if key in keys:\n",
    "        if key != 121: \n",
    "            digitsModels[key - 48] = roi\n",
    "        else:\n",
    "            digitsModels[10] = roi\n",
    "cv2.destroyAllWindows()"
   ]
  },
  {
   "cell_type": "code",
   "execution_count": null,
   "metadata": {},
   "outputs": [],
   "source": [
    "def detect_number(digit, candidate):\n",
    "    dgt = digit\n",
    "    if (candidate.shape != dgt.shape):\n",
    "        dgt = cv2.resize(dgt, np.transpose(candidate).shape)\n",
    "    dgt[np.where(dgt > 80)] = 255\n",
    "    dgt[np.where(dgt <= 80)] = 0\n",
    "    conv = np.multiply(dgt, candidate)\n",
    "    return np.sum(np.sum(conv))\n",
    "\n",
    "def recognize_digit(candidate):\n",
    "    convs = [detect_number(digit, candidate) for digit in digitsModels]\n",
    "    print(candidate.shape, convs)\n",
    "    return convs.index(max(convs))"
   ]
  },
  {
   "cell_type": "code",
   "execution_count": null,
   "metadata": {},
   "outputs": [],
   "source": [
    "recognize_digit(digitsModels[8])"
   ]
  },
  {
   "cell_type": "code",
   "execution_count": null,
   "metadata": {},
   "outputs": [],
   "source": [
    "im = cv2.imread(\"./fapiao/croped/43614530.png\")\n",
    "imgray = cv2.cvtColor(im, cv2.COLOR_BGR2GRAY)\n",
    "ret, thresh = cv2.threshold(imgray, 120, 255, 0)\n",
    "plot_img('thresh', thresh)\n",
    "width_of_digit = 15\n",
    "height_of_digit = 33\n",
    "\n",
    "for roi in digitGenerator(thresh, height_of_digit, width_of_digit):\n",
    "    cv2.imshow('Training: Enter digits displayed in the red rectangle!', roi)\n",
    "    try:\n",
    "        print(\"Digit is:\", recognize_digit(roi))\n",
    "    except Exception as e:\n",
    "        print(\"Size Exception\", e)\n",
    "        cv2.destroyAllWindows()\n",
    "        break\n",
    "    cv2.waitKey(0)\n",
    "cv2.destroyAllWindows()"
   ]
  }
 ],
 "metadata": {
  "kernelspec": {
   "display_name": "Python 3",
   "language": "python",
   "name": "python3"
  },
  "language_info": {
   "codemirror_mode": {
    "name": "ipython",
    "version": 3
   },
   "file_extension": ".py",
   "mimetype": "text/x-python",
   "name": "python",
   "nbconvert_exporter": "python",
   "pygments_lexer": "ipython3",
   "version": "3.7.1"
  }
 },
 "nbformat": 4,
 "nbformat_minor": 2
}
